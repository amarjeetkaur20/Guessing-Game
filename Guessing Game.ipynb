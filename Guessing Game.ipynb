{
 "cells": [
  {
   "cell_type": "code",
   "execution_count": 1,
   "metadata": {},
   "outputs": [
    {
     "name": "stdout",
     "output_type": "stream",
     "text": [
      "Your Coins: 20\n",
      "\n",
      "Enter your guess between 1 and 100:45\n",
      "guess a higher no!!!!!\n",
      "Enter your guess between 1 and 100:65\n",
      "\n",
      "You guessed it!!!!!\n",
      "The no. is: 65\n",
      "\n",
      "You took 1 steps to guess\n",
      "Computer took 4 steps to guess\n",
      "\n",
      "Coins left:\n",
      " 19\n"
     ]
    }
   ],
   "source": [
    "import random\n",
    "\n",
    "#computer's guess\n",
    "def comp_guess(low_val, high_val, rand_num, count=0):\n",
    "    if high_val >= low_val:\n",
    "        guess = low_val + (high_val-low_val)//2\n",
    "        if guess == rand_num:\n",
    "            return count\n",
    "        elif guess > rand_num:\n",
    "            count = count + 1\n",
    "            return comp_guess(low_val, guess-1, rand_num, count)\n",
    "        else:\n",
    "            count = count + 1\n",
    "            return comp_guess(guess+1, high_val, rand_num, count)\n",
    "    else:\n",
    "        return -1\n",
    "print(\"Your Coins: 20\\n\")\n",
    "\n",
    "#user's guess\n",
    "rand_num = random.randint(1,101)\n",
    "count=0\n",
    "guess=-99\n",
    "while(guess!=rand_num):\n",
    "    guess=int(input(\"Enter your guess between 1 and 100:\"))\n",
    "    if guess > rand_num:\n",
    "        print(\"guess a lower no!!!!!\")\n",
    "    elif guess < rand_num:\n",
    "        print(\"guess a higher no!!!!!\")\n",
    "    else:\n",
    "        print()\n",
    "        print(\"You guessed it!!!!!\")\n",
    "        print(\"The no. is:\",rand_num)\n",
    "        break\n",
    "    count = count + 1\n",
    "print(\"\\nYou took \"+str(count)+\" steps to guess\")\n",
    "print(\"Computer took \"+str(comp_guess(0,100, rand_num))+\" steps to guess\")\n",
    "\n",
    "#coin distribution\n",
    "coins=20\n",
    "if count < 5:\n",
    "    bal_coins=coins-1\n",
    "elif count < 10:\n",
    "    bal_coins=coins-3\n",
    "elif count < 20:\n",
    "    bal_coins=coins-5\n",
    "elif count < 30:\n",
    "    bal_coins=coins-7\n",
    "else:\n",
    "    bal_coins=0\n",
    "print(\"\\nCoins left:\\n\",bal_coins)"
   ]
  },
  {
   "cell_type": "code",
   "execution_count": null,
   "metadata": {},
   "outputs": [],
   "source": []
  }
 ],
 "metadata": {
  "kernelspec": {
   "display_name": "Python 3",
   "language": "python",
   "name": "python3"
  },
  "language_info": {
   "codemirror_mode": {
    "name": "ipython",
    "version": 3
   },
   "file_extension": ".py",
   "mimetype": "text/x-python",
   "name": "python",
   "nbconvert_exporter": "python",
   "pygments_lexer": "ipython3",
   "version": "3.8.3"
  }
 },
 "nbformat": 4,
 "nbformat_minor": 4
}
